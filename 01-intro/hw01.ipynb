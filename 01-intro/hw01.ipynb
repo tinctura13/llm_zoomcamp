{
 "cells": [
  {
   "cell_type": "markdown",
   "id": "fbc82976-57e8-49c5-a95e-b577b489ba7a",
   "metadata": {},
   "source": [
    "# Q1. Running Elastic"
   ]
  },
  {
   "cell_type": "code",
   "execution_count": 28,
   "id": "18d10180-2c1b-418d-a2d6-11e67b90182a",
   "metadata": {},
   "outputs": [
    {
     "name": "stdout",
     "output_type": "stream",
     "text": [
      "{\n",
      "  \"name\" : \"16165911bfe7\",\n",
      "  \"cluster_name\" : \"docker-cluster\",\n",
      "  \"cluster_uuid\" : \"1nlL9fbyThK179peW65kSQ\",\n",
      "  \"version\" : {\n",
      "    \"number\" : \"8.4.3\",\n",
      "    \"build_flavor\" : \"default\",\n",
      "    \"build_type\" : \"docker\",\n",
      "    \"build_hash\" : \"42f05b9372a9a4a470db3b52817899b99a76ee73\",\n",
      "    \"build_date\" : \"2022-10-04T07:17:24.662462378Z\",\n",
      "    \"build_snapshot\" : false,\n",
      "    \"lucene_version\" : \"9.3.0\",\n",
      "    \"minimum_wire_compatibility_version\" : \"7.17.0\",\n",
      "    \"minimum_index_compatibility_version\" : \"7.0.0\"\n",
      "  },\n",
      "  \"tagline\" : \"You Know, for Search\"\n",
      "}\n"
     ]
    }
   ],
   "source": [
    "!curl localhost:9200"
   ]
  },
  {
   "cell_type": "markdown",
   "id": "1058d539-cdde-49ea-b654-1c689eb433ae",
   "metadata": {},
   "source": [
    "### What's the `version.build_hash` value?"
   ]
  },
  {
   "cell_type": "markdown",
   "id": "7b93eb18-12ee-40b9-b4a9-eaabbbebd0ff",
   "metadata": {},
   "source": [
    "`42f05b9372a9a4a470db3b52817899b99a76ee73`"
   ]
  },
  {
   "cell_type": "markdown",
   "id": "aef2c309-7775-438a-bf73-21d66225d692",
   "metadata": {},
   "source": [
    "# Q2. Indexing the data"
   ]
  },
  {
   "cell_type": "code",
   "execution_count": 16,
   "id": "37e3aef0-aff0-4f86-a7f7-f2f0c7cb31d5",
   "metadata": {},
   "outputs": [],
   "source": [
    "import requests \n",
    "\n",
    "docs_url = 'https://github.com/DataTalksClub/llm-zoomcamp/blob/main/01-intro/documents.json?raw=1'\n",
    "docs_response = requests.get(docs_url)\n",
    "documents_raw = docs_response.json()\n",
    "\n",
    "documents = []\n",
    "\n",
    "for course in documents_raw:\n",
    "    course_name = course['course']\n",
    "\n",
    "    for doc in course['documents']:\n",
    "        doc['course'] = course_name\n",
    "        documents.append(doc)"
   ]
  },
  {
   "cell_type": "code",
   "execution_count": 5,
   "id": "2534bd69-d547-492b-9fee-9428ae3b7446",
   "metadata": {},
   "outputs": [],
   "source": [
    "from elasticsearch import elasticsearch"
   ]
  },
  {
   "cell_type": "code",
   "execution_count": 8,
   "id": "7e11d7ae-208c-4b0a-bb87-9103287818da",
   "metadata": {},
   "outputs": [],
   "source": [
    "es_client = Elasticsearch('http://localhost:9200')"
   ]
  },
  {
   "cell_type": "code",
   "execution_count": 14,
   "id": "3c3d7065-751a-4520-8018-179cabc6c296",
   "metadata": {},
   "outputs": [
    {
     "data": {
      "text/plain": [
       "ObjectApiResponse({'acknowledged': True, 'shards_acknowledged': True, 'index': 'course-questions'})"
      ]
     },
     "execution_count": 14,
     "metadata": {},
     "output_type": "execute_result"
    }
   ],
   "source": [
    "index_settings = {\n",
    "    \"settings\": {\n",
    "        \"number_of_shards\": 1,\n",
    "        \"number_of_replicas\": 0\n",
    "    },\n",
    "    \"mappings\": {\n",
    "        \"properties\": {\n",
    "            \"text\": {\"type\": \"text\"},\n",
    "            \"selection\": {\"type\": \"text\"},\n",
    "            \"question\": {\"type\": \"text\"},\n",
    "            \"course\": {\"type\": \"keyword\"}\n",
    "        }\n",
    "    }\n",
    "}\n",
    "\n",
    "index_name = \"course-questions\"\n",
    "\n",
    "es_client.indices.create(index=index_name, body=index_settings)"
   ]
  },
  {
   "cell_type": "code",
   "execution_count": 19,
   "id": "a504ab00-2eef-4d7d-95a2-0ad3e5d28078",
   "metadata": {},
   "outputs": [
    {
     "name": "stderr",
     "output_type": "stream",
     "text": [
      "/usr/local/python/3.10.13/lib/python3.10/site-packages/tqdm/auto.py:21: TqdmWarning: IProgress not found. Please update jupyter and ipywidgets. See https://ipywidgets.readthedocs.io/en/stable/user_install.html\n",
      "  from .autonotebook import tqdm as notebook_tqdm\n",
      "100%|███████████████████████████████████████████████████████████████████████████████████████████████████████████████████████| 948/948 [00:31<00:00, 30.04it/s]\n"
     ]
    }
   ],
   "source": [
    "from tqdm.auto import tqdm\n",
    "\n",
    "for doc in tqdm(documents):\n",
    "    es_client.index(index=index_name, document=doc)"
   ]
  },
  {
   "cell_type": "markdown",
   "id": "70564b46-d2f7-460a-be3d-b3dc4cbd9f1d",
   "metadata": {},
   "source": [
    "### Which function do you use for adding your data to elastic?"
   ]
  },
  {
   "cell_type": "markdown",
   "id": "426866d5-2a19-47b1-b200-3292c0e7b064",
   "metadata": {},
   "source": [
    "`index`"
   ]
  },
  {
   "cell_type": "markdown",
   "id": "fd067b3e-9fb6-48b4-8bc0-60c886b58e05",
   "metadata": {},
   "source": [
    "# Q3. Searching"
   ]
  },
  {
   "cell_type": "code",
   "execution_count": 54,
   "id": "d927dd7f-a92c-4345-a8d6-a7d246ab966c",
   "metadata": {},
   "outputs": [
    {
     "data": {
      "text/plain": [
       "75.54128"
      ]
     },
     "execution_count": 54,
     "metadata": {},
     "output_type": "execute_result"
    }
   ],
   "source": [
    "query = \"How do I execute a command in a running docker container?\"\n",
    "\n",
    "search_query = {\n",
    "    \"size\": 5,\n",
    "    \"query\": {\n",
    "        \"bool\": {\n",
    "            \"must\": {\n",
    "                \"multi_match\": {\n",
    "                    \"query\": query,\n",
    "                    \"fields\": [\"question^4\", \"text\"], # use only \"text\" and \"question\" with boost of 4\n",
    "                    \"type\": \"best_fields\" \n",
    "                }\n",
    "            },\n",
    "            \"filter\": {\n",
    "                \"term\": {\n",
    "                    \"course\": \"data-engineering-zoomcamp\"\n",
    "                }\n",
    "            }\n",
    "        }\n",
    "    }\n",
    "}\n",
    "\n",
    "response = es_client.search(index=index_name, body=search_query)\n",
    "response['hits']['hits'][0]['_score']"
   ]
  },
  {
   "cell_type": "markdown",
   "id": "f906ddbe-854c-4dd8-aee1-39e2ee83cc8e",
   "metadata": {},
   "source": [
    "### What's the score for the top ranking result?\n",
    "\n",
    "* 94.05\n",
    "* 84.05\n",
    "* `74.05` <-- closest to my result (`75.54`)\n",
    "* 64.05"
   ]
  },
  {
   "cell_type": "markdown",
   "id": "93392178-2cc3-441e-9d26-a7ca5ea52e47",
   "metadata": {},
   "source": [
    "# Q4. Filtering\n"
   ]
  },
  {
   "cell_type": "code",
   "execution_count": 62,
   "id": "e0fba6c0-e113-4ad6-8a5c-0f424605eb80",
   "metadata": {},
   "outputs": [
    {
     "data": {
      "text/plain": [
       "'How do I copy files from a different folder into docker container’s working directory?'"
      ]
     },
     "execution_count": 62,
     "metadata": {},
     "output_type": "execute_result"
    }
   ],
   "source": [
    "query = \"How do I execute a command in a running docker container?\"\n",
    "\n",
    "search_query = {\n",
    "    \"size\": 3,\n",
    "    \"query\": {\n",
    "        \"bool\": {\n",
    "            \"must\": {\n",
    "                \"multi_match\": {\n",
    "                    \"query\": query,\n",
    "                    \"fields\": [\"question^4\", \"text\"], # use only \"text\" and \"question\" with boost of 4\n",
    "                    \"type\": \"best_fields\" \n",
    "                }\n",
    "            },\n",
    "            \"filter\": {\n",
    "                \"term\": {\n",
    "                    \"course\": \"machine-learning-zoomcamp\" # machine-learning-zoomcamp\n",
    "                }\n",
    "            }\n",
    "        }\n",
    "    }\n",
    "}\n",
    "\n",
    "response = es_client.search(index=index_name, body=search_query)\n",
    "response['hits']['hits'][-1]['_source']['question']"
   ]
  },
  {
   "cell_type": "markdown",
   "id": "5af3dc89-7784-4da2-bb65-34381a648d70",
   "metadata": {},
   "source": [
    "### Return 3 results. What's the 3rd question returned by the search engine?\n",
    "\n",
    "* How do I debug a docker container?\n",
    "* `How do I copy files from a different folder into docker container’s working directory?`\n",
    "* How do Lambda container images work?\n",
    "* How can I annotate a graph?"
   ]
  },
  {
   "cell_type": "markdown",
   "id": "7407074d-4233-46eb-8819-0ce3c84e7425",
   "metadata": {},
   "source": [
    "# Q5. Building a prompt\n"
   ]
  },
  {
   "cell_type": "code",
   "execution_count": 65,
   "id": "43d5019f-dfbe-42f0-adc3-06b44342ba34",
   "metadata": {},
   "outputs": [
    {
     "data": {
      "text/plain": [
       "[{'text': 'Launch the container image in interactive mode and overriding the entrypoint, so that it starts a bash command.\\ndocker run -it --entrypoint bash <image>\\nIf the container is already running, execute a command in the specific container:\\ndocker ps (find the container-id)\\ndocker exec -it <container-id> bash\\n(Marcos MJD)',\n",
       "  'section': '5. Deploying Machine Learning Models',\n",
       "  'question': 'How do I debug a docker container?',\n",
       "  'course': 'machine-learning-zoomcamp'},\n",
       " {'text': \"You can copy files from your local machine into a Docker container using the docker cp command. Here's how to do it:\\nTo copy a file or directory from your local machine into a running Docker container, you can use the `docker cp command`. The basic syntax is as follows:\\ndocker cp /path/to/local/file_or_directory container_id:/path/in/container\\nHrithik Kumar Advani\",\n",
       "  'section': '5. Deploying Machine Learning Models',\n",
       "  'question': 'How do I copy files from my local machine to docker container?',\n",
       "  'course': 'machine-learning-zoomcamp'},\n",
       " {'text': 'You can copy files from your local machine into a Docker container using the docker cp command. Here\\'s how to do it:\\nIn the Dockerfile, you can provide the folder containing the files that you want to copy over. The basic syntax is as follows:\\nCOPY [\"src/predict.py\", \"models/xgb_model.bin\", \"./\"]\\t\\t\\t\\t\\t\\t\\t\\t\\t\\t\\tGopakumar Gopinathan',\n",
       "  'section': '5. Deploying Machine Learning Models',\n",
       "  'question': 'How do I copy files from a different folder into docker container’s working directory?',\n",
       "  'course': 'machine-learning-zoomcamp'}]"
      ]
     },
     "execution_count": 65,
     "metadata": {},
     "output_type": "execute_result"
    }
   ],
   "source": [
    "q5_docs = []\n",
    "\n",
    "for doc in response['hits']['hits']:\n",
    "    q5_docs.append(doc['_source'])\n",
    "\n",
    "q5_docs"
   ]
  },
  {
   "cell_type": "code",
   "execution_count": 84,
   "id": "1c5ffab0-3030-489c-8da5-63c193f26b7f",
   "metadata": {},
   "outputs": [],
   "source": [
    "context_template = \"\"\"\n",
    "Q: {question}\n",
    "A: {text}\n",
    "\"\"\".strip()\n",
    "\n",
    "prompt_template = \"\"\"\n",
    "You're a course teaching assistant. Answer the QUESTION based on the CONTEXT from the FAQ database.\n",
    "Use only the facts from the CONTEXT when answering the QUESTION.\n",
    "\n",
    "QUESTION: {question}\n",
    "\n",
    "CONTEXT:\n",
    "{context}\n",
    "\"\"\".strip()"
   ]
  },
  {
   "cell_type": "code",
   "execution_count": 87,
   "id": "df97dd60-ce9a-4c7f-a9fe-332a4c449768",
   "metadata": {},
   "outputs": [],
   "source": [
    "def build_prompt(query, search_results):\n",
    "    prompt_temp = prompt_template\n",
    "    context = \"\"\n",
    "\n",
    "    for doc in search_results:\n",
    "        context = context + context_template.format(question=doc['question'], text=doc['text'])\n",
    "    \n",
    "    return prompt_temp.format(question=query, context=context).strip()"
   ]
  },
  {
   "cell_type": "code",
   "execution_count": 93,
   "id": "8e753e13-04e1-4e09-87af-2f35a2f6a15e",
   "metadata": {},
   "outputs": [],
   "source": [
    "prompt = build_prompt(query, q5_docs)"
   ]
  },
  {
   "cell_type": "code",
   "execution_count": 94,
   "id": "8abbf66f-4b3e-4970-ba79-8acdffb3c802",
   "metadata": {},
   "outputs": [
    {
     "data": {
      "text/plain": [
       "1458"
      ]
     },
     "execution_count": 94,
     "metadata": {},
     "output_type": "execute_result"
    }
   ],
   "source": [
    "len(prompt)"
   ]
  },
  {
   "cell_type": "markdown",
   "id": "cbfff8bb-707b-41c3-bd38-df76186e7639",
   "metadata": {},
   "source": [
    "What's the length of the resulting prompt? (use the `len` function)\n",
    "\n",
    "* 962\n",
    "* `1462`\n",
    "* 1962\n",
    "* 2462"
   ]
  },
  {
   "cell_type": "markdown",
   "id": "61635c34-a53f-446f-bce0-286be709c796",
   "metadata": {},
   "source": [
    "# Q6. Tokens"
   ]
  },
  {
   "cell_type": "code",
   "execution_count": 91,
   "id": "2c2919db-759e-448b-bd7f-5fbe25ad9f8a",
   "metadata": {},
   "outputs": [],
   "source": [
    "import tiktoken \n",
    "encoding = tiktoken.encoding_for_model(\"gpt-4o\")"
   ]
  },
  {
   "cell_type": "code",
   "execution_count": 96,
   "id": "8df5ba09-52e9-4aa6-8173-147c40a2bb37",
   "metadata": {},
   "outputs": [
    {
     "data": {
      "text/plain": [
       "321"
      ]
     },
     "execution_count": 96,
     "metadata": {},
     "output_type": "execute_result"
    }
   ],
   "source": [
    "len(encoding.encode(prompt))"
   ]
  },
  {
   "cell_type": "markdown",
   "id": "96169690-722c-4fdc-a530-ff3b3fe674b7",
   "metadata": {},
   "source": [
    "Use the `encode` function. How many tokens does our prompt have?\n",
    "\n",
    "* 122\n",
    "* 222\n",
    "* `322`\n",
    "* 422"
   ]
  },
  {
   "cell_type": "markdown",
   "id": "68db8f4e-d1ba-49d1-bada-6cf1caad2cd9",
   "metadata": {},
   "source": [
    "# Bonus: generating the answer (ungraded)"
   ]
  },
  {
   "cell_type": "code",
   "execution_count": 98,
   "id": "e6887b78-3f22-441a-8d58-bdc28e8e146f",
   "metadata": {},
   "outputs": [],
   "source": [
    "from openai import OpenAI"
   ]
  },
  {
   "cell_type": "code",
   "execution_count": 104,
   "id": "bcecfc99-9999-42c6-873a-a98fce49a18d",
   "metadata": {},
   "outputs": [],
   "source": [
    "client = OpenAI()"
   ]
  },
  {
   "cell_type": "code",
   "execution_count": 105,
   "id": "e0157185-4997-4cd6-a548-22ffdcaa96ce",
   "metadata": {},
   "outputs": [],
   "source": [
    "response = client.chat.completions.create(\n",
    "        model=\"gpt-3.5-turbo\",\n",
    "        messages=[{\"role\": \"user\", \"content\": prompt}]\n",
    "    )"
   ]
  },
  {
   "cell_type": "code",
   "execution_count": 107,
   "id": "7bef1225-2d1f-4f15-9c00-a17c25a5361e",
   "metadata": {},
   "outputs": [
    {
     "data": {
      "text/plain": [
       "'You can execute a command in a running docker container by using the `docker exec` command. If the container is already running, you can find the container ID using `docker ps` and then use `docker exec -it <container-id> bash` to execute a command in the specific container.'"
      ]
     },
     "execution_count": 107,
     "metadata": {},
     "output_type": "execute_result"
    }
   ],
   "source": [
    "response.choices[0].message.content"
   ]
  },
  {
   "cell_type": "markdown",
   "id": "d05a6ec3-d175-4f6e-9490-d11b77c770e8",
   "metadata": {},
   "source": [
    "# Bonus: calculating the costs (ungraded)"
   ]
  },
  {
   "cell_type": "markdown",
   "id": "fe702a82-4e26-4ac8-ac7e-cd90995239e3",
   "metadata": {},
   "source": [
    "### Current prices for `gpt-3.5-turbo-0125`\n",
    "* input `$0.50` / `1M` tokens\n",
    "* output `$1.50` / `1M` tokens"
   ]
  },
  {
   "cell_type": "markdown",
   "id": "2bc1de00-e423-46d9-8a81-4995b7137822",
   "metadata": {},
   "source": [
    "### Suppose that on average per request we send 150 tokens and receive back 250 tokens.\n",
    "\n",
    "How much will it cost to run 1000 requests?"
   ]
  },
  {
   "cell_type": "markdown",
   "id": "b1221a81-56e5-4fa4-b9cc-30006fd26259",
   "metadata": {},
   "source": [
    "#### input:"
   ]
  },
  {
   "cell_type": "code",
   "execution_count": 109,
   "id": "11a4bde1-2586-49bf-be5b-5ac69859c824",
   "metadata": {},
   "outputs": [
    {
     "data": {
      "text/plain": [
       "0.075"
      ]
     },
     "execution_count": 109,
     "metadata": {},
     "output_type": "execute_result"
    }
   ],
   "source": [
    "(150 * 1000) * 0.5 / 1000000"
   ]
  },
  {
   "cell_type": "markdown",
   "id": "c6c5439d-ed72-4520-93e9-b8ea14136823",
   "metadata": {},
   "source": [
    "#### output:"
   ]
  },
  {
   "cell_type": "code",
   "execution_count": 111,
   "id": "f551c8f5-bb3f-4308-af3c-dd88f80c0644",
   "metadata": {},
   "outputs": [
    {
     "data": {
      "text/plain": [
       "0.375"
      ]
     },
     "execution_count": 111,
     "metadata": {},
     "output_type": "execute_result"
    }
   ],
   "source": [
    "(250 * 1000) * 1.5 / 1000000"
   ]
  },
  {
   "cell_type": "markdown",
   "id": "1e33b34e-0a6b-4a11-b947-323ba012ff93",
   "metadata": {},
   "source": [
    "#### total for 1000 requests:"
   ]
  },
  {
   "cell_type": "code",
   "execution_count": 112,
   "id": "16007420-afe9-4bf2-b9da-873f0631ba23",
   "metadata": {},
   "outputs": [
    {
     "data": {
      "text/plain": [
       "0.45"
      ]
     },
     "execution_count": 112,
     "metadata": {},
     "output_type": "execute_result"
    }
   ],
   "source": [
    "(150 * 1000) * 0.5 / 1000000 + (250 * 1000) * 1.5 / 1000000"
   ]
  }
 ],
 "metadata": {
  "kernelspec": {
   "display_name": "Python 3 (ipykernel)",
   "language": "python",
   "name": "python3"
  },
  "language_info": {
   "codemirror_mode": {
    "name": "ipython",
    "version": 3
   },
   "file_extension": ".py",
   "mimetype": "text/x-python",
   "name": "python",
   "nbconvert_exporter": "python",
   "pygments_lexer": "ipython3",
   "version": "3.10.13"
  }
 },
 "nbformat": 4,
 "nbformat_minor": 5
}
