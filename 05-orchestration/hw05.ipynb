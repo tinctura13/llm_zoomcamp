{
 "cells": [
  {
   "cell_type": "markdown",
   "id": "813009e1",
   "metadata": {},
   "source": [
    "## Q1. Running Mage"
   ]
  },
  {
   "cell_type": "markdown",
   "id": "5294bf9f",
   "metadata": {},
   "source": [
    "What's the version of mage?\n",
    "\n",
    "`v0.9.72`"
   ]
  },
  {
   "cell_type": "markdown",
   "id": "5e8eaa23",
   "metadata": {},
   "source": [
    "## Q2. Reading the documents"
   ]
  },
  {
   "cell_type": "markdown",
   "id": "96cbd5fd",
   "metadata": {},
   "source": [
    "How many FAQ documents we processed?\n",
    "\n",
    "`1`"
   ]
  },
  {
   "cell_type": "markdown",
   "id": "a4c4f908",
   "metadata": {},
   "source": [
    "## Q3. Chunking"
   ]
  },
  {
   "cell_type": "markdown",
   "id": "2738deb1",
   "metadata": {},
   "source": [
    "How many documents (chunks) do we have in the output?\n",
    "\n",
    "`86`"
   ]
  },
  {
   "cell_type": "markdown",
   "id": "81bace1c",
   "metadata": {},
   "source": [
    "## Q4. Export"
   ]
  },
  {
   "cell_type": "markdown",
   "id": "9f92cdaf",
   "metadata": {},
   "source": [
    "What's the last document id?\n",
    "\n",
    "`6fc3236a`"
   ]
  },
  {
   "cell_type": "markdown",
   "id": "11863c5f",
   "metadata": {},
   "source": [
    "What's the last document id?"
   ]
  },
  {
   "cell_type": "markdown",
   "id": "e5c0bf37",
   "metadata": {},
   "source": [
    "## Q5. Testing the retrieval"
   ]
  },
  {
   "cell_type": "markdown",
   "id": "2a669d6b",
   "metadata": {},
   "source": [
    "Let's use the following query: \"When is the next cohort?\"  \n",
    "What's the ID of the top matching result?\n",
    "\n",
    "`bf024675`"
   ]
  },
  {
   "cell_type": "code",
   "execution_count": 27,
   "id": "3be06da8",
   "metadata": {},
   "outputs": [
    {
     "name": "stdout",
     "output_type": "stream",
     "text": [
      "Connected to Elasticsearch\n"
     ]
    },
    {
     "data": {
      "text/html": [
       "<div>\n",
       "<style scoped>\n",
       "    .dataframe tbody tr th:only-of-type {\n",
       "        vertical-align: middle;\n",
       "    }\n",
       "\n",
       "    .dataframe tbody tr th {\n",
       "        vertical-align: top;\n",
       "    }\n",
       "\n",
       "    .dataframe thead th {\n",
       "        text-align: right;\n",
       "    }\n",
       "</style>\n",
       "<table border=\"1\" class=\"dataframe\">\n",
       "  <thead>\n",
       "    <tr style=\"text-align: right;\">\n",
       "      <th></th>\n",
       "      <th>score</th>\n",
       "      <th>text</th>\n",
       "      <th>question</th>\n",
       "      <th>section</th>\n",
       "      <th>course</th>\n",
       "      <th>document_id</th>\n",
       "    </tr>\n",
       "  </thead>\n",
       "  <tbody>\n",
       "    <tr>\n",
       "      <th>0</th>\n",
       "      <td>8.443945</td>\n",
       "      <td>Summer 2025 (via Alexey).</td>\n",
       "      <td>When will the course be offered next?</td>\n",
       "      <td>General course-related questions</td>\n",
       "      <td>llm-zoomcamp</td>\n",
       "      <td>bf024675</td>\n",
       "    </tr>\n",
       "    <tr>\n",
       "      <th>1</th>\n",
       "      <td>5.754293</td>\n",
       "      <td>No, you can only get a certificate if you fini...</td>\n",
       "      <td>Certificate - Can I follow the course in a sel...</td>\n",
       "      <td>General course-related questions</td>\n",
       "      <td>llm-zoomcamp</td>\n",
       "      <td>a705279d</td>\n",
       "    </tr>\n",
       "    <tr>\n",
       "      <th>2</th>\n",
       "      <td>4.399607</td>\n",
       "      <td>This is likely to be an error when indexing th...</td>\n",
       "      <td>Returning Empty list after filtering my query ...</td>\n",
       "      <td>Module 1: Introduction</td>\n",
       "      <td>llm-zoomcamp</td>\n",
       "      <td>190fc999</td>\n",
       "    </tr>\n",
       "    <tr>\n",
       "      <th>3</th>\n",
       "      <td>4.220145</td>\n",
       "      <td>Cosine similarity is a measure used to calcula...</td>\n",
       "      <td>What is the cosine similarity?</td>\n",
       "      <td>Module 3: X</td>\n",
       "      <td>llm-zoomcamp</td>\n",
       "      <td>ee355823</td>\n",
       "    </tr>\n",
       "    <tr>\n",
       "      <th>4</th>\n",
       "      <td>4.070828</td>\n",
       "      <td>The error indicates that you have not changed ...</td>\n",
       "      <td>There is an error when opening the table using...</td>\n",
       "      <td>Workshops: dlthub</td>\n",
       "      <td>llm-zoomcamp</td>\n",
       "      <td>6cf805ca</td>\n",
       "    </tr>\n",
       "  </tbody>\n",
       "</table>\n",
       "</div>"
      ],
      "text/plain": [
       "      score                                               text  \\\n",
       "0  8.443945                          Summer 2025 (via Alexey).   \n",
       "1  5.754293  No, you can only get a certificate if you fini...   \n",
       "2  4.399607  This is likely to be an error when indexing th...   \n",
       "3  4.220145  Cosine similarity is a measure used to calcula...   \n",
       "4  4.070828  The error indicates that you have not changed ...   \n",
       "\n",
       "                                            question  \\\n",
       "0              When will the course be offered next?   \n",
       "1  Certificate - Can I follow the course in a sel...   \n",
       "2  Returning Empty list after filtering my query ...   \n",
       "3                     What is the cosine similarity?   \n",
       "4  There is an error when opening the table using...   \n",
       "\n",
       "                            section        course document_id  \n",
       "0  General course-related questions  llm-zoomcamp    bf024675  \n",
       "1  General course-related questions  llm-zoomcamp    a705279d  \n",
       "2            Module 1: Introduction  llm-zoomcamp    190fc999  \n",
       "3                       Module 3: X  llm-zoomcamp    ee355823  \n",
       "4                 Workshops: dlthub  llm-zoomcamp    6cf805ca  "
      ]
     },
     "metadata": {},
     "output_type": "display_data"
    },
    {
     "name": "stdout",
     "output_type": "stream",
     "text": [
      "Total matching documents: 68\n"
     ]
    }
   ],
   "source": [
    "from elasticsearch import Elasticsearch\n",
    "import pandas as pd\n",
    "\n",
    "# Connect to your Elasticsearch instance\n",
    "es = Elasticsearch([\"http://localhost:9200\"])\n",
    "\n",
    "# Check if the connection is successful\n",
    "if es.ping():\n",
    "    print(\"Connected to Elasticsearch\")\n",
    "else:\n",
    "    print(\"Could not connect to Elasticsearch\")\n",
    "    exit()\n",
    "\n",
    "# Define the search query\n",
    "query = {\n",
    "    \"query\": {\n",
    "        \"multi_match\": {\n",
    "            \"query\": \"When is the next cohort?\",\n",
    "            \"fields\": [\"text\", \"question\", \"section\"]\n",
    "        }\n",
    "    },\n",
    "    \"size\": 5  # Limit to top 5 results\n",
    "}\n",
    "\n",
    "# Perform the search\n",
    "try:\n",
    "    response = es.search(index=\"documents_20240818_4441\", body=query)\n",
    "    \n",
    "    # Extract and display the results\n",
    "    hits = response['hits']['hits']\n",
    "    results = []\n",
    "    for hit in hits:\n",
    "        results.append({\n",
    "            'score': hit['_score'],\n",
    "            'text': hit['_source'].get('text', ''),\n",
    "            'question': hit['_source'].get('question', ''),\n",
    "            'section': hit['_source'].get('section', ''),\n",
    "            'course': hit['_source'].get('course', ''),\n",
    "            'document_id': hit['_source'].get('document_id', '')\n",
    "        })\n",
    "\n",
    "    # Convert results to a pandas DataFrame for easy viewing\n",
    "    df = pd.DataFrame(results)\n",
    "    display(df)\n",
    "\n",
    "    # Print the total number of matching documents\n",
    "    print(f\"Total matching documents: {response['hits']['total']['value']}\")\n",
    "\n",
    "except Exception as e:\n",
    "    print(f\"An error occurred: {str(e)}\")\n",
    "    import traceback\n",
    "    traceback.print_exc()"
   ]
  },
  {
   "cell_type": "markdown",
   "id": "4313b157",
   "metadata": {},
   "source": [
    "## Q6. Reindexing"
   ]
  },
  {
   "cell_type": "code",
   "execution_count": 34,
   "id": "e5de8ab1",
   "metadata": {},
   "outputs": [
    {
     "name": "stdout",
     "output_type": "stream",
     "text": [
      "Connected to Elasticsearch\n",
      "Available indices:\n",
      "- documents_20240818_1717\n",
      "- documents_20240818_4441\n",
      "\n",
      "Total number of indices: 2\n"
     ]
    }
   ],
   "source": [
    "from elasticsearch import Elasticsearch\n",
    "\n",
    "# Connect to your Elasticsearch instance\n",
    "es = Elasticsearch([\"http://localhost:9200\"])\n",
    "\n",
    "# Check if the connection is successful\n",
    "if es.ping():\n",
    "    print(\"Connected to Elasticsearch\")\n",
    "else:\n",
    "    print(\"Could not connect to Elasticsearch\")\n",
    "    exit()\n",
    "\n",
    "try:\n",
    "    # Get information about all indices\n",
    "    indices = es.indices.get_alias(index=\"*\")\n",
    "    \n",
    "    print(\"Available indices:\")\n",
    "    for index in indices:\n",
    "        print(f\"- {index}\")\n",
    "        \n",
    "    print(f\"\\nTotal number of indices: {len(indices)}\")\n",
    "except Exception as e:\n",
    "    print(f\"An error occurred: {str(e)}\")\n",
    "    \n",
    "    # Print more details about the error\n",
    "    import traceback\n",
    "    traceback.print_exc()"
   ]
  },
  {
   "cell_type": "code",
   "execution_count": 35,
   "id": "56fb7ad3",
   "metadata": {},
   "outputs": [
    {
     "name": "stdout",
     "output_type": "stream",
     "text": [
      "Connected to Elasticsearch\n"
     ]
    },
    {
     "data": {
      "text/html": [
       "<div>\n",
       "<style scoped>\n",
       "    .dataframe tbody tr th:only-of-type {\n",
       "        vertical-align: middle;\n",
       "    }\n",
       "\n",
       "    .dataframe tbody tr th {\n",
       "        vertical-align: top;\n",
       "    }\n",
       "\n",
       "    .dataframe thead th {\n",
       "        text-align: right;\n",
       "    }\n",
       "</style>\n",
       "<table border=\"1\" class=\"dataframe\">\n",
       "  <thead>\n",
       "    <tr style=\"text-align: right;\">\n",
       "      <th></th>\n",
       "      <th>score</th>\n",
       "      <th>text</th>\n",
       "      <th>question</th>\n",
       "      <th>section</th>\n",
       "      <th>course</th>\n",
       "      <th>document_id</th>\n",
       "    </tr>\n",
       "  </thead>\n",
       "  <tbody>\n",
       "    <tr>\n",
       "      <th>0</th>\n",
       "      <td>8.443945</td>\n",
       "      <td>Summer 2025 (via Alexey).</td>\n",
       "      <td>When will the course be offered next?</td>\n",
       "      <td>General course-related questions</td>\n",
       "      <td>llm-zoomcamp</td>\n",
       "      <td>bf024675</td>\n",
       "    </tr>\n",
       "    <tr>\n",
       "      <th>1</th>\n",
       "      <td>5.754293</td>\n",
       "      <td>No, you can only get a certificate if you fini...</td>\n",
       "      <td>Certificate - Can I follow the course in a sel...</td>\n",
       "      <td>General course-related questions</td>\n",
       "      <td>llm-zoomcamp</td>\n",
       "      <td>a705279d</td>\n",
       "    </tr>\n",
       "    <tr>\n",
       "      <th>2</th>\n",
       "      <td>4.399607</td>\n",
       "      <td>This is likely to be an error when indexing th...</td>\n",
       "      <td>Returning Empty list after filtering my query ...</td>\n",
       "      <td>Module 1: Introduction</td>\n",
       "      <td>llm-zoomcamp</td>\n",
       "      <td>190fc999</td>\n",
       "    </tr>\n",
       "    <tr>\n",
       "      <th>3</th>\n",
       "      <td>4.220145</td>\n",
       "      <td>Cosine similarity is a measure used to calcula...</td>\n",
       "      <td>What is the cosine similarity?</td>\n",
       "      <td>Module 3: X</td>\n",
       "      <td>llm-zoomcamp</td>\n",
       "      <td>ee355823</td>\n",
       "    </tr>\n",
       "    <tr>\n",
       "      <th>4</th>\n",
       "      <td>4.070828</td>\n",
       "      <td>The error indicates that you have not changed ...</td>\n",
       "      <td>There is an error when opening the table using...</td>\n",
       "      <td>Workshops: dlthub</td>\n",
       "      <td>llm-zoomcamp</td>\n",
       "      <td>6cf805ca</td>\n",
       "    </tr>\n",
       "  </tbody>\n",
       "</table>\n",
       "</div>"
      ],
      "text/plain": [
       "      score                                               text  \\\n",
       "0  8.443945                          Summer 2025 (via Alexey).   \n",
       "1  5.754293  No, you can only get a certificate if you fini...   \n",
       "2  4.399607  This is likely to be an error when indexing th...   \n",
       "3  4.220145  Cosine similarity is a measure used to calcula...   \n",
       "4  4.070828  The error indicates that you have not changed ...   \n",
       "\n",
       "                                            question  \\\n",
       "0              When will the course be offered next?   \n",
       "1  Certificate - Can I follow the course in a sel...   \n",
       "2  Returning Empty list after filtering my query ...   \n",
       "3                     What is the cosine similarity?   \n",
       "4  There is an error when opening the table using...   \n",
       "\n",
       "                            section        course document_id  \n",
       "0  General course-related questions  llm-zoomcamp    bf024675  \n",
       "1  General course-related questions  llm-zoomcamp    a705279d  \n",
       "2            Module 1: Introduction  llm-zoomcamp    190fc999  \n",
       "3                       Module 3: X  llm-zoomcamp    ee355823  \n",
       "4                 Workshops: dlthub  llm-zoomcamp    6cf805ca  "
      ]
     },
     "metadata": {},
     "output_type": "display_data"
    },
    {
     "name": "stdout",
     "output_type": "stream",
     "text": [
      "Total matching documents: 68\n"
     ]
    }
   ],
   "source": [
    "from elasticsearch import Elasticsearch\n",
    "import pandas as pd\n",
    "\n",
    "# Connect to your Elasticsearch instance\n",
    "es = Elasticsearch([\"http://localhost:9200\"])\n",
    "\n",
    "# Check if the connection is successful\n",
    "if es.ping():\n",
    "    print(\"Connected to Elasticsearch\")\n",
    "else:\n",
    "    print(\"Could not connect to Elasticsearch\")\n",
    "    exit()\n",
    "\n",
    "# Define the search query\n",
    "query = {\n",
    "    \"query\": {\n",
    "        \"multi_match\": {\n",
    "            \"query\": \"When is the next cohort?\",\n",
    "            \"fields\": [\"text\", \"question\", \"section\"]\n",
    "        }\n",
    "    },\n",
    "    \"size\": 5  # Limit to top 5 results\n",
    "}\n",
    "\n",
    "# Perform the search\n",
    "try:\n",
    "    response = es.search(index=\"documents_20240818_1717\", body=query)\n",
    "    \n",
    "    # Extract and display the results\n",
    "    hits = response['hits']['hits']\n",
    "    results = []\n",
    "    for hit in hits:\n",
    "        results.append({\n",
    "            'score': hit['_score'],\n",
    "            'text': hit['_source'].get('text', ''),\n",
    "            'question': hit['_source'].get('question', ''),\n",
    "            'section': hit['_source'].get('section', ''),\n",
    "            'course': hit['_source'].get('course', ''),\n",
    "            'document_id': hit['_source'].get('document_id', '')\n",
    "        })\n",
    "\n",
    "    # Convert results to a pandas DataFrame for easy viewing\n",
    "    df = pd.DataFrame(results)\n",
    "    display(df)\n",
    "\n",
    "    # Print the total number of matching documents\n",
    "    print(f\"Total matching documents: {response['hits']['total']['value']}\")\n",
    "\n",
    "except Exception as e:\n",
    "    print(f\"An error occurred: {str(e)}\")\n",
    "    import traceback\n",
    "    traceback.print_exc()"
   ]
  },
  {
   "cell_type": "markdown",
   "id": "f1eb8e3f",
   "metadata": {},
   "source": [
    "For the same query \"When is the next cohort?\".  \n",
    "What's the ID of the top matching result?\n",
    "\n",
    "`bf024675`"
   ]
  }
 ],
 "metadata": {
  "kernelspec": {
   "display_name": "Python 3 (ipykernel)",
   "language": "python",
   "name": "python3"
  },
  "language_info": {
   "codemirror_mode": {
    "name": "ipython",
    "version": 3
   },
   "file_extension": ".py",
   "mimetype": "text/x-python",
   "name": "python",
   "nbconvert_exporter": "python",
   "pygments_lexer": "ipython3",
   "version": "3.10.12"
  }
 },
 "nbformat": 4,
 "nbformat_minor": 5
}
